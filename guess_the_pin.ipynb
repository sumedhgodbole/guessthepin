{
  "nbformat": 4,
  "nbformat_minor": 0,
  "metadata": {
    "colab": {
      "name": "guess_the_pin.ipynb",
      "provenance": [],
      "collapsed_sections": [],
      "authorship_tag": "ABX9TyMdTBjbs9QyJLoCZqBFv/H3",
      "include_colab_link": true
    },
    "kernelspec": {
      "name": "python3",
      "display_name": "Python 3"
    },
    "language_info": {
      "name": "python"
    }
  },
  "cells": [
    {
      "cell_type": "markdown",
      "metadata": {
        "id": "view-in-github",
        "colab_type": "text"
      },
      "source": [
        "<a href=\"https://colab.research.google.com/github/sumedhgodbole/guessthepin/blob/main/guess_the_pin.ipynb\" target=\"_parent\"><img src=\"https://colab.research.google.com/assets/colab-badge.svg\" alt=\"Open In Colab\"/></a>"
      ]
    },
    {
      "cell_type": "code",
      "execution_count": null,
      "metadata": {
        "id": "NrFpyBlXD-K_"
      },
      "outputs": [],
      "source": [
        "import itertools\n",
        "from tqdm import tqdm\n",
        "import multiprocessing as mp"
      ]
    },
    {
      "cell_type": "code",
      "source": [
        "!apt-get update\n",
        "!pip install selenium\n",
        "!apt install chromium-chromedriver\n",
        "# !apt install firefox-geckodriver\n",
        "# !cp /usr/lib/geckodriver /usr/bin\n",
        "# !cp /usr/lib/firefox /usr/bin\n",
        "!cp /usr/lib/chromium-browser/chromedriver /usr/bin\n"
      ],
      "metadata": {
        "id": "TZMhxaNIEYb2"
      },
      "execution_count": null,
      "outputs": []
    },
    {
      "cell_type": "code",
      "source": [
        "from selenium import webdriver\n",
        "from selenium.webdriver.common.keys import Keys\n",
        "from selenium.webdriver.common.by import By\n",
        "from selenium.webdriver.support.ui import WebDriverWait\n",
        "from selenium.webdriver.support import expected_conditions as EC\n",
        "from selenium.webdriver.firefox.options import Options\n"
      ],
      "metadata": {
        "id": "mFH_aC_hETwb"
      },
      "execution_count": null,
      "outputs": []
    },
    {
      "cell_type": "code",
      "source": [
        "url = \"https://www.guessthepin.com/\""
      ],
      "metadata": {
        "id": "SHs20asKEyXy"
      },
      "execution_count": null,
      "outputs": []
    },
    {
      "cell_type": "code",
      "source": [
        "number_of_parts = 10\n",
        "total_combinations = 10000\n",
        "chunk_size = total_combinations //number_of_parts\n",
        "iterator = [i for i in range(0, 10)]"
      ],
      "metadata": {
        "id": "Im7L9QaHEukd"
      },
      "execution_count": null,
      "outputs": []
    },
    {
      "cell_type": "code",
      "source": [
        "digits = [str(d) for d in range(10)]\n",
        "# print(len(digits), digits)\n",
        "keys = [\"\".join(item) for item in itertools.product(digits, repeat=4)]"
      ],
      "metadata": {
        "id": "unNZJTwZEsl-"
      },
      "execution_count": null,
      "outputs": []
    },
    {
      "cell_type": "code",
      "source": [
        "from selenium.webdriver.firefox.options import Options\n",
        "def guess_the_pin(seq_number):\n",
        "\n",
        "    range_start, range_end = (chunk_size * seq_number ) +1, (chunk_size * (seq_number+1)) +1\n",
        "\n",
        "    options = webdriver.ChromeOptions()\n",
        "    options.add_argument('--headless')\n",
        "    options.add_argument('--no-sandbox')\n",
        "    options.add_argument('--disable-dev-shm-usage')\n",
        "    driver = webdriver.Chrome(options=options)\n",
        "\n",
        "    driver.get(url)\n",
        "\n",
        "    inputElement = driver.find_element(By.ID, \"pin\")\n",
        "    inputElement.send_keys('0000')\n",
        "\n",
        "    inputElement.send_keys(Keys.ENTER)\n",
        "\n",
        "    # # time.sleep(1.0)\n",
        "    label_ret = WebDriverWait(driver, 10).until(\n",
        "        EC.visibility_of_element_located((By.XPATH, \"//div[@id='container']/form/label\"))).text.split()\n",
        "    for k in tqdm(keys[range_start:range_end], leave=True, position=0):\n",
        "\n",
        "        if label_ret[0] == \"Sorry,\":\n",
        "\n",
        "            inputElement = WebDriverWait(driver, 10).until(EC.presence_of_element_located((By.ID, \"pin\")))\n",
        "            inputElement.send_keys(k)\n",
        "            inputElement.send_keys(Keys.ENTER)\n",
        "            expected_update = \"Sorry, {}\".format(k)\n",
        "            # print(expected_update)\n",
        "            text_present = WebDriverWait(driver, 20).until(\n",
        "                EC.text_to_be_present_in_element((By.XPATH, \"//div[@id='container']/form/label\"), expected_update))\n",
        "\n",
        "        else:\n",
        "            print(\"Key Found is {}\", label_ret.split()[0:2])\n",
        "            break"
      ],
      "metadata": {
        "id": "FEgObB9_EhwO"
      },
      "execution_count": null,
      "outputs": []
    },
    {
      "cell_type": "code",
      "source": [
        "if __name__ == '__main__':\n",
        "    pool = mp.Pool(processes=mp.cpu_count())\n",
        "    pool.map(guess_the_pin, iterator)"
      ],
      "metadata": {
        "id": "t0pqP2lKFPFq"
      },
      "execution_count": null,
      "outputs": []
    },
    {
      "cell_type": "code",
      "source": [
        "# guess_the_pin(2)"
      ],
      "metadata": {
        "id": "KI51gLCbIOHr"
      },
      "execution_count": null,
      "outputs": []
    }
  ]
}